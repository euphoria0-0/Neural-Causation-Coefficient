{
 "cells": [
  {
   "cell_type": "markdown",
   "metadata": {},
   "source": [
    "### Discovering Causal Signals in Images\n",
    "\n",
    "1. Train NCC classifier\n",
    "    1. Create synthetic dataset with causal/anticausal label\n",
    "    2. Train NCC classifier\n",
    "    3. Test NCC classifier\n",
    "2. Discovering causal signals in images\n",
    "    1. Get image dataset\n",
    "    2. Get bounding box of each category (train object detection model?)\n",
    "    3. Compute feature score\n",
    "    4. classify causal/anticausal//object/context"
   ]
  },
  {
   "cell_type": "markdown",
   "metadata": {},
   "source": [
    "### 1. Train NCC classifier\n",
    "#### 1. Create synthetic dataset"
   ]
  },
  {
   "cell_type": "code",
   "execution_count": 1,
   "metadata": {},
   "outputs": [],
   "source": [
    "from sklearn.mixture import GaussianMixture\n",
    "from scipy.interpolate import CubicHermiteSpline, PchipInterpolator, UnivariateSpline\n",
    "\n",
    "def normalize(x):\n",
    "    return (x-x.mean())/x.std()"
   ]
  },
  {
   "cell_type": "code",
   "execution_count": 2,
   "metadata": {},
   "outputs": [],
   "source": [
    "n = 10000 # i=1,...n\n",
    "m_i = 100 # j=1,...,m_i"
   ]
  },
  {
   "cell_type": "code",
   "execution_count": 3,
   "metadata": {},
   "outputs": [
    {
     "name": "stderr",
     "output_type": "stream",
     "text": [
      "100%|██████████| 10000/10000 [00:32<00:00, 304.11it/s]\n"
     ]
    }
   ],
   "source": [
    "# for reproducible results\n",
    "np.random.seed(seed=0)\n",
    "\n",
    "synthetic_data = np.empty((0,3))\n",
    "\n",
    "## cause\n",
    "# fix parameters for creating gaussian distributions\n",
    "for i in tqdm(range(n)):\n",
    "    m_i = 100\n",
    "\n",
    "    k_i = np.random.randint(1, 5, size=1).item()\n",
    "    r_i = np.random.uniform(0, 5, size=1)\n",
    "    s_i = np.random.uniform(0, 5, size=1)\n",
    "    # create gaussian distributions before mix\n",
    "    mu = np.random.normal(0, r_i, size=k_i)\n",
    "    sigma = np.absolute(np.random.normal(0, s_i, size=k_i))\n",
    "    precision = np.reciprocal(sigma)\n",
    "    mixture_coef = np.absolute(np.random.normal(0, 1, size=k_i))\n",
    "    mixture_coef /= mixture_coef.sum()\n",
    "    # mixture of Gaussians\n",
    "    # sampling from mixture of Gaussians\n",
    "    what_dist = np.random.choice(k_i, size=m_i, p=mixture_coef, replace=True)\n",
    "    unique, counts = np.unique(what_dist, return_counts=True)\n",
    "    x_ij = np.empty((0,))\n",
    "    for idx,cnt in zip(unique, counts):\n",
    "        x_ij = np.concatenate([x_ij, np.random.normal(mu[idx], sigma[idx], size=cnt)], axis=0)\n",
    "    # GMM = GaussianMixture(\n",
    "    #     n_components=k_i,\n",
    "    #     weights_init=mixture_coef,\n",
    "    #     means_init=mu,\n",
    "    #     precisions_init=precision,\n",
    "    #     random_state=0,\n",
    "    # ).fit()\n",
    "    # x_ij = GMM.sample(n_samples=m_i)\n",
    "    \n",
    "    ## mechanism\n",
    "    # cubic Hermite spline with support [min-std,max+std]\n",
    "    d_i = np.random.randint(4, 5, size=1).item()\n",
    "    knots = np.random.normal(0, 1, size=d_i)\n",
    "    knots2 = np.random.normal(0, 1, size=d_i)\n",
    "    support = np.linspace(x_ij.min()-x_ij.std(), x_ij.max()+x_ij.std(), d_i)\n",
    "    # f_i = CubicHermiteSpline(x_ij, y, dydx, axis)\n",
    "    f_ij_spline = PchipInterpolator(sorted(knots), knots2)\n",
    "    \n",
    "    ## noise\n",
    "    v_i = np.random.uniform(0, 5, size=1)\n",
    "    e_ij = np.random.normal(0, v_i, size=m_i)\n",
    "    knots = np.random.uniform(0, 5, size=d_i)\n",
    "    v_ij_spline = UnivariateSpline(support, knots)\n",
    "    v_ij = v_ij_spline(e_ij)  # value of smoothing spline with support\n",
    "    hetero_noise = np.multiply(v_ij, e_ij)\n",
    "\n",
    "    ## mechanism again\n",
    "    f_ij = f_ij_spline(x_ij)\n",
    "    f_ij = normalize(f_ij)\n",
    "    \n",
    "    ## noise effect y_ij\n",
    "    y_ij = f_ij + hetero_noise\n",
    "    y_ij = normalize(y_ij)\n",
    "    \n",
    "    ## sampling process (2n samples)\n",
    "    index = np.ones((m_i,1), dtype=int)*i\n",
    "    syn_data = np.concatenate([index, x_ij.reshape(-1,1), y_ij.reshape(-1,1)], axis=1)\n",
    "    synthetic_data = np.concatenate([synthetic_data, syn_data])"
   ]
  },
  {
   "cell_type": "code",
   "execution_count": 12,
   "metadata": {},
   "outputs": [
    {
     "name": "stdout",
     "output_type": "stream",
     "text": [
      "(1000000, 3)\n"
     ]
    }
   ],
   "source": [
    "print(synthetic_data.shape)\n",
    "np.savetxt(\"data/synthetic_data.csv\", synthetic_data, delimiter=\",\", fmt='%i,%2.8f,%2.8f')"
   ]
  },
  {
   "cell_type": "markdown",
   "metadata": {},
   "source": [
    "#### 2. Train NCC Classifier\n",
    "\n",
    "- NCC: two embedding layers and two classification layers followed by a softmax output layer.\n",
    "- each hidden layer is a composition of batch normalization, 100 hidden neurons, ReLU, 25% dropout.\n",
    "- train for 10000 iterations using RMSProp with default params"
   ]
  },
  {
   "cell_type": "code",
   "execution_count": 1,
   "metadata": {},
   "outputs": [
    {
     "name": "stderr",
     "output_type": "stream",
     "text": [
      "c:\\Users\\yeong\\miniconda3\\envs\\segment\\lib\\site-packages\\tqdm\\auto.py:22: TqdmWarning: IProgress not found. Please update jupyter and ipywidgets. See https://ipywidgets.readthedocs.io/en/stable/user_install.html\n",
      "  from .autonotebook import tqdm as notebook_tqdm\n"
     ]
    }
   ],
   "source": [
    "import numpy as np\n",
    "import tqdm\n",
    "import torch\n",
    "from torch import nn\n",
    "from torch import optim\n",
    "from torch.utils.data import DataLoader"
   ]
  },
  {
   "cell_type": "code",
   "execution_count": 2,
   "metadata": {},
   "outputs": [],
   "source": [
    "class SyntheticDataset(object):\n",
    "    def __init__(self, dataset):\n",
    "        self.dataset = dataset\n",
    "\n",
    "    def __getitem__(self, index):\n",
    "        X, Y = self.dataset[index,1], self.dataset[index,2]\n",
    "        return X, Y\n",
    "\n",
    "    def __len__(self):\n",
    "        return len(self.dataset)"
   ]
  },
  {
   "cell_type": "code",
   "execution_count": 3,
   "metadata": {},
   "outputs": [],
   "source": [
    "class NCC_Classifier(nn.Module):\n",
    "    def __init__(self, num_classes=2, in_features=2, hidden_dim=100):\n",
    "        super(NCC_Classifier, self).__init__()\n",
    "        \n",
    "        self.emb_layer1 = nn.Sequential(*[\n",
    "            nn.Linear(in_features, hidden_dim),\n",
    "            nn.BatchNorm1d(hidden_dim),\n",
    "            nn.ReLU(),\n",
    "            nn.Dropout(p=0.25)\n",
    "        ])\n",
    "        \n",
    "        self.emb_layer2 = nn.Sequential(*[\n",
    "            nn.Linear(hidden_dim, hidden_dim),\n",
    "            nn.BatchNorm1d(hidden_dim),\n",
    "            nn.ReLU(),\n",
    "            nn.Dropout(p=0.25)\n",
    "        ])\n",
    "\n",
    "        self.classifier1 = nn.Sequential(*[\n",
    "            nn.Linear(hidden_dim, hidden_dim),\n",
    "            nn.BatchNorm1d(hidden_dim),\n",
    "            nn.ReLU(),\n",
    "            nn.Dropout(p=0.25)\n",
    "        ])\n",
    "\n",
    "        self.classifier2 = nn.Sequential(*[\n",
    "            nn.Linear(hidden_dim, hidden_dim),\n",
    "            nn.BatchNorm1d(hidden_dim),\n",
    "            nn.ReLU(),\n",
    "            nn.Dropout(p=0.25)\n",
    "        ])\n",
    "\n",
    "        self.classifier = nn.Linear(hidden_dim, num_classes)\n",
    "        \n",
    "    def forward(self, x, N):\n",
    "        x = self.emb_layer1(x)\n",
    "        x = self.emb_layer2(x)\n",
    "        x = torch.stack([x[i:i+N].mean(axis=0) for i in range(0,N+1,N)])\n",
    "        x = self.classifier1(x)\n",
    "        x = self.classifier2(x)\n",
    "        x = self.classifier(x)\n",
    "        # softmax\n",
    "        return x"
   ]
  },
  {
   "cell_type": "code",
   "execution_count": 4,
   "metadata": {},
   "outputs": [],
   "source": [
    "batch_size = 100 # m_i\n",
    "num_epoch = 1\n",
    "num_iteration = 10000\n",
    "device = 'cpu'"
   ]
  },
  {
   "cell_type": "code",
   "execution_count": 5,
   "metadata": {},
   "outputs": [],
   "source": [
    "synthetic_data = np.loadtxt('data/synthetic_data.csv', delimiter=',')\n",
    "dataset = SyntheticDataset(synthetic_data)\n",
    "dataloader = DataLoader(dataset, batch_size=batch_size, shuffle=False)"
   ]
  },
  {
   "cell_type": "code",
   "execution_count": 6,
   "metadata": {},
   "outputs": [
    {
     "data": {
      "text/plain": [
       "NCC_Classifier(\n",
       "  (emb_layer1): Sequential(\n",
       "    (0): Linear(in_features=2, out_features=100, bias=True)\n",
       "    (1): BatchNorm1d(100, eps=1e-05, momentum=0.1, affine=True, track_running_stats=True)\n",
       "    (2): ReLU()\n",
       "    (3): Dropout(p=0.25, inplace=False)\n",
       "  )\n",
       "  (emb_layer2): Sequential(\n",
       "    (0): Linear(in_features=100, out_features=100, bias=True)\n",
       "    (1): BatchNorm1d(100, eps=1e-05, momentum=0.1, affine=True, track_running_stats=True)\n",
       "    (2): ReLU()\n",
       "    (3): Dropout(p=0.25, inplace=False)\n",
       "  )\n",
       "  (classifier1): Sequential(\n",
       "    (0): Linear(in_features=100, out_features=100, bias=True)\n",
       "    (1): BatchNorm1d(100, eps=1e-05, momentum=0.1, affine=True, track_running_stats=True)\n",
       "    (2): ReLU()\n",
       "    (3): Dropout(p=0.25, inplace=False)\n",
       "  )\n",
       "  (classifier2): Sequential(\n",
       "    (0): Linear(in_features=100, out_features=100, bias=True)\n",
       "    (1): BatchNorm1d(100, eps=1e-05, momentum=0.1, affine=True, track_running_stats=True)\n",
       "    (2): ReLU()\n",
       "    (3): Dropout(p=0.25, inplace=False)\n",
       "  )\n",
       "  (classifier): Linear(in_features=100, out_features=2, bias=True)\n",
       ")"
      ]
     },
     "execution_count": 6,
     "metadata": {},
     "output_type": "execute_result"
    }
   ],
   "source": [
    "model = NCC_Classifier().to(device)\n",
    "model.train()\n"
   ]
  },
  {
   "cell_type": "code",
   "execution_count": 9,
   "metadata": {},
   "outputs": [
    {
     "name": "stderr",
     "output_type": "stream",
     "text": [
      "100%|██████████| 1/1 [02:18<00:00, 138.65s/it]"
     ]
    },
    {
     "name": "stdout",
     "output_type": "stream",
     "text": [
      "Epoch 1/1 TrainLoss 6931.596932 TrainAcc 0.5000\n"
     ]
    },
    {
     "name": "stderr",
     "output_type": "stream",
     "text": [
      "\n"
     ]
    }
   ],
   "source": [
    "# criterion = nn.CrossEntropyLoss()\n",
    "# optimizer = optim.RMSprop(model.parameters())\n",
    "\n",
    "for epoch in tqdm.tqdm(range(num_epoch)):\n",
    "    train_loss, correct, total = 0., 0, 0\n",
    "\n",
    "    for X, Y in tqdm.tqdm(dataloader, leave=False):\n",
    "        causal = torch.cat([X.reshape(-1,1),Y.reshape(-1,1)],axis=1)\n",
    "        anticausal = torch.cat([Y.reshape(-1,1),X.reshape(-1,1)], axis=1)\n",
    "        inputs = torch.cat([causal, anticausal], axis=0).to(device)\n",
    "        NCC_label = torch.tensor([0,1], dtype=torch.long, device=device)\n",
    "        N = X.size(0)\n",
    "        \n",
    "        optimizer.zero_grad()\n",
    "        \n",
    "        output = model(inputs.float(), N//2)\n",
    "        \n",
    "        # loss = (1 - output1 + output2) / 2\n",
    "        loss = criterion(output, NCC_label)\n",
    "        loss.backward()\n",
    "        optimizer.step()\n",
    "        \n",
    "        # metric\n",
    "        train_loss += torch.sum(loss.detach()).cpu().item()\n",
    "        \n",
    "        _, preds = torch.max(output.data, 1)\n",
    "        # correct += preds.eq(NCC_label).sum().detach().cpu().data.numpy()\n",
    "        correct += sum([preds[i]==i for i in range(2)]).item()\n",
    "        total += len(NCC_label)\n",
    "        # print(sum([preds[i]==i for i in range(2)]).item(), preds)\n",
    "        \n",
    "    print('Epoch {}/{} TrainLoss {:.6f} TrainAcc {:.4f}'.format(epoch+1, num_epoch, train_loss, correct / total))"
   ]
  },
  {
   "cell_type": "code",
   "execution_count": 10,
   "metadata": {},
   "outputs": [],
   "source": [
    "import os\n",
    "os.makedirs('results', exist_ok=True)\n",
    "torch.save(model.state_dict(), f'results/model_{num_epoch}.pt')"
   ]
  },
  {
   "cell_type": "markdown",
   "metadata": {},
   "source": [
    "#### 3. Testing NCC\n",
    "- Tubingen dataset v1.0"
   ]
  },
  {
   "cell_type": "code",
   "execution_count": 78,
   "metadata": {},
   "outputs": [],
   "source": [
    "import pandas as pd"
   ]
  },
  {
   "cell_type": "code",
   "execution_count": 76,
   "metadata": {},
   "outputs": [
    {
     "data": {
      "text/html": [
       "<div>\n",
       "<style scoped>\n",
       "    .dataframe tbody tr th:only-of-type {\n",
       "        vertical-align: middle;\n",
       "    }\n",
       "\n",
       "    .dataframe tbody tr th {\n",
       "        vertical-align: top;\n",
       "    }\n",
       "\n",
       "    .dataframe thead th {\n",
       "        text-align: right;\n",
       "    }\n",
       "</style>\n",
       "<table border=\"1\" class=\"dataframe\">\n",
       "  <thead>\n",
       "    <tr style=\"text-align: right;\">\n",
       "      <th></th>\n",
       "      <th>name</th>\n",
       "      <th>var 1</th>\n",
       "      <th>var 2</th>\n",
       "      <th>dataset</th>\n",
       "      <th>ground truth</th>\n",
       "    </tr>\n",
       "  </thead>\n",
       "  <tbody>\n",
       "    <tr>\n",
       "      <th>0</th>\n",
       "      <td>pair0001</td>\n",
       "      <td>Altitude</td>\n",
       "      <td>Temperature</td>\n",
       "      <td>DWD</td>\n",
       "      <td>-&gt;</td>\n",
       "    </tr>\n",
       "    <tr>\n",
       "      <th>1</th>\n",
       "      <td>pair0002</td>\n",
       "      <td>Altitude</td>\n",
       "      <td>Precipitation</td>\n",
       "      <td>DWD</td>\n",
       "      <td>-&gt;</td>\n",
       "    </tr>\n",
       "    <tr>\n",
       "      <th>2</th>\n",
       "      <td>pair0003</td>\n",
       "      <td>Longitude</td>\n",
       "      <td>Temperature</td>\n",
       "      <td>DWD</td>\n",
       "      <td>-&gt;</td>\n",
       "    </tr>\n",
       "    <tr>\n",
       "      <th>3</th>\n",
       "      <td>pair0004</td>\n",
       "      <td>Altitude</td>\n",
       "      <td>Sunshine hours</td>\n",
       "      <td>DWD</td>\n",
       "      <td>-&gt;</td>\n",
       "    </tr>\n",
       "    <tr>\n",
       "      <th>4</th>\n",
       "      <td>pair0005</td>\n",
       "      <td>Age</td>\n",
       "      <td>Length</td>\n",
       "      <td>Abalone</td>\n",
       "      <td>-&gt;</td>\n",
       "    </tr>\n",
       "  </tbody>\n",
       "</table>\n",
       "</div>"
      ],
      "text/plain": [
       "       name      var 1           var 2  dataset ground truth\n",
       "0  pair0001   Altitude     Temperature      DWD           ->\n",
       "1  pair0002   Altitude   Precipitation      DWD           ->\n",
       "2  pair0003  Longitude     Temperature      DWD           ->\n",
       "3  pair0004   Altitude  Sunshine hours      DWD           ->\n",
       "4  pair0005        Age          Length  Abalone           ->"
      ]
     },
     "execution_count": 76,
     "metadata": {},
     "output_type": "execute_result"
    }
   ],
   "source": [
    "label.head()"
   ]
  },
  {
   "cell_type": "code",
   "execution_count": 77,
   "metadata": {},
   "outputs": [],
   "source": [
    "class TubingenDataset(object):\n",
    "    def __init__(self, filename=None):\n",
    "        data_path = 'data/pairs_1.0/'\n",
    "        label = pd.read_csv(os.path.join(data_path, 'Description.csv'))\n",
    "        dataset = []\n",
    "        if filename is None:\n",
    "            for f in label['name']:\n",
    "                dataset.append(np.loadtxt(os.path.join(data_path, f+'.txt')))\n",
    "        else:\n",
    "            dataset.append(np.loadtxt(os.path.join(data_path, filename)))\n",
    "        print(len(dataset), dataset[0].shape)\n",
    "        self.dataset = dataset\n",
    "        self.label = label['ground truth']\n",
    "        \n",
    "    def __getitem__(self, index):\n",
    "        data = self.dataset[index]\n",
    "        label = self.label[index]\n",
    "        return data, label\n",
    "\n",
    "    def __len__(self):\n",
    "        return len(self.dataset)"
   ]
  },
  {
   "cell_type": "code",
   "execution_count": null,
   "metadata": {},
   "outputs": [],
   "source": []
  }
 ],
 "metadata": {
  "kernelspec": {
   "display_name": "Python 3.9.13 ('segment')",
   "language": "python",
   "name": "python3"
  },
  "language_info": {
   "codemirror_mode": {
    "name": "ipython",
    "version": 3
   },
   "file_extension": ".py",
   "mimetype": "text/x-python",
   "name": "python",
   "nbconvert_exporter": "python",
   "pygments_lexer": "ipython3",
   "version": "3.9.13"
  },
  "orig_nbformat": 4,
  "vscode": {
   "interpreter": {
    "hash": "037aa815787b8e961403192ef1347e583d17d9ee4b11ffc4eb0aa3b81a4b5c37"
   }
  }
 },
 "nbformat": 4,
 "nbformat_minor": 2
}
