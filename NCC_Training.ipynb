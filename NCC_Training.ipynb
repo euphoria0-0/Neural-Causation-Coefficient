{
 "cells": [
  {
   "cell_type": "markdown",
   "metadata": {},
   "source": [
    "### Discovering Causal Signals in Images\n",
    "\n",
    "1. Train NCC classifier\n",
    "    1. Create synthetic dataset with causal/anticausal label\n",
    "    2. Train NCC classifier\n",
    "2. Discovering causal signals in images\n",
    "    1. Get image dataset\n",
    "    2. Get bounding box of each category (train object detection model?)\n",
    "    3. Compute feature score\n",
    "    4. classify causal/anticausal//object/context"
   ]
  },
  {
   "cell_type": "markdown",
   "metadata": {},
   "source": [
    "### 1. Train NCC classifier\n",
    "#### 1. Create synthetic dataset"
   ]
  },
  {
   "cell_type": "code",
   "execution_count": 1,
   "metadata": {},
   "outputs": [],
   "source": [
    "from sklearn.mixture import GaussianMixture\n",
    "from scipy.interpolate import CubicHermiteSpline, PchipInterpolator, UnivariateSpline\n",
    "\n",
    "def normalize(x):\n",
    "    return (x-x.mean())/x.std()"
   ]
  },
  {
   "cell_type": "code",
   "execution_count": 2,
   "metadata": {},
   "outputs": [],
   "source": [
    "n = 10000 # i=1,...n\n",
    "m_i = 100 # j=1,...,m_i"
   ]
  },
  {
   "cell_type": "code",
   "execution_count": 3,
   "metadata": {},
   "outputs": [
    {
     "name": "stderr",
     "output_type": "stream",
     "text": [
      "100%|██████████| 10000/10000 [00:32<00:00, 304.11it/s]\n"
     ]
    }
   ],
   "source": [
    "# for reproducible results\n",
    "np.random.seed(seed=0)\n",
    "\n",
    "synthetic_data = np.empty((0,3))\n",
    "\n",
    "## cause\n",
    "# fix parameters for creating gaussian distributions\n",
    "for i in tqdm(range(n)):\n",
    "    m_i = 100\n",
    "\n",
    "    k_i = np.random.randint(1, 5, size=1).item()\n",
    "    r_i = np.random.uniform(0, 5, size=1)\n",
    "    s_i = np.random.uniform(0, 5, size=1)\n",
    "    # create gaussian distributions before mix\n",
    "    mu = np.random.normal(0, r_i, size=k_i)\n",
    "    sigma = np.absolute(np.random.normal(0, s_i, size=k_i))\n",
    "    precision = np.reciprocal(sigma)\n",
    "    mixture_coef = np.absolute(np.random.normal(0, 1, size=k_i))\n",
    "    mixture_coef /= mixture_coef.sum()\n",
    "    # mixture of Gaussians\n",
    "    # sampling from mixture of Gaussians\n",
    "    what_dist = np.random.choice(k_i, size=m_i, p=mixture_coef, replace=True)\n",
    "    unique, counts = np.unique(what_dist, return_counts=True)\n",
    "    x_ij = np.empty((0,))\n",
    "    for idx,cnt in zip(unique, counts):\n",
    "        x_ij = np.concatenate([x_ij, np.random.normal(mu[idx], sigma[idx], size=cnt)], axis=0)\n",
    "    # GMM = GaussianMixture(\n",
    "    #     n_components=k_i,\n",
    "    #     weights_init=mixture_coef,\n",
    "    #     means_init=mu,\n",
    "    #     precisions_init=precision,\n",
    "    #     random_state=0,\n",
    "    # ).fit()\n",
    "    # x_ij = GMM.sample(n_samples=m_i)\n",
    "    \n",
    "    ## mechanism\n",
    "    # cubic Hermite spline with support [min-std,max+std]\n",
    "    d_i = np.random.randint(4, 5, size=1).item()\n",
    "    knots = np.random.normal(0, 1, size=d_i)\n",
    "    knots2 = np.random.normal(0, 1, size=d_i)\n",
    "    support = np.linspace(x_ij.min()-x_ij.std(), x_ij.max()+x_ij.std(), d_i)\n",
    "    # f_i = CubicHermiteSpline(x_ij, y, dydx, axis)\n",
    "    f_ij_spline = PchipInterpolator(sorted(knots), knots2)\n",
    "    \n",
    "    ## noise\n",
    "    v_i = np.random.uniform(0, 5, size=1)\n",
    "    e_ij = np.random.normal(0, v_i, size=m_i)\n",
    "    knots = np.random.uniform(0, 5, size=d_i)\n",
    "    v_ij_spline = UnivariateSpline(support, knots)\n",
    "    v_ij = v_ij_spline(e_ij)  # value of smoothing spline with support\n",
    "    hetero_noise = np.multiply(v_ij, e_ij)\n",
    "\n",
    "    ## mechanism again\n",
    "    f_ij = f_ij_spline(x_ij)\n",
    "    f_ij = normalize(f_ij)\n",
    "    \n",
    "    ## noise effect y_ij\n",
    "    y_ij = f_ij + hetero_noise\n",
    "    y_ij = normalize(y_ij)\n",
    "    \n",
    "    ## sampling process (2n samples)\n",
    "    index = np.ones((m_i,1), dtype=int)*i\n",
    "    syn_data = np.concatenate([index, x_ij.reshape(-1,1), y_ij.reshape(-1,1)], axis=1)\n",
    "    synthetic_data = np.concatenate([synthetic_data, syn_data])"
   ]
  },
  {
   "cell_type": "code",
   "execution_count": 12,
   "metadata": {},
   "outputs": [
    {
     "name": "stdout",
     "output_type": "stream",
     "text": [
      "(1000000, 3)\n"
     ]
    }
   ],
   "source": [
    "print(synthetic_data.shape)\n",
    "np.savetxt(\"data/synthetic_data.csv\", synthetic_data, delimiter=\",\", fmt='%i,%2.8f,%2.8f')"
   ]
  },
  {
   "cell_type": "markdown",
   "metadata": {},
   "source": [
    "#### 2. Train NCC Classifier\n",
    "\n",
    "- NCC: two embedding layers and two classification layers followed by a softmax output layer.\n",
    "- each hidden layer is a composition of batch normalization, 100 hidden neurons, ReLU, 25% dropout.\n",
    "- train for 10000 iterations using RMSProp with default params"
   ]
  },
  {
   "cell_type": "code",
   "execution_count": 1,
   "metadata": {},
   "outputs": [
    {
     "name": "stderr",
     "output_type": "stream",
     "text": [
      "c:\\Users\\yeong\\miniconda3\\envs\\segment\\lib\\site-packages\\tqdm\\auto.py:22: TqdmWarning: IProgress not found. Please update jupyter and ipywidgets. See https://ipywidgets.readthedocs.io/en/stable/user_install.html\n",
      "  from .autonotebook import tqdm as notebook_tqdm\n"
     ]
    }
   ],
   "source": [
    "import numpy as np\n",
    "from tqdm import tqdm\n",
    "import torch\n",
    "from torch import nn\n",
    "from torch import optim\n",
    "from torch.utils.data import DataLoader"
   ]
  },
  {
   "cell_type": "code",
   "execution_count": 2,
   "metadata": {},
   "outputs": [],
   "source": [
    "batch_size = 32\n",
    "num_iteration = 10000"
   ]
  },
  {
   "cell_type": "code",
   "execution_count": 3,
   "metadata": {},
   "outputs": [],
   "source": [
    "class SyntheticDataset(object):\n",
    "    def __init__(self, dataset):\n",
    "        self.dataset = dataset\n",
    "\n",
    "    def __getitem__(self, index):\n",
    "        X, Y = self.dataset[index,1], self.dataset[index,2]\n",
    "        return ((torch.tensor((X,Y),dtype=float), 0), (torch.tensor((Y,X),dtype=float), 1))\n",
    "\n",
    "    def __len__(self):\n",
    "        return len(self.dataset)"
   ]
  },
  {
   "cell_type": "code",
   "execution_count": 4,
   "metadata": {},
   "outputs": [],
   "source": [
    "synthetic_data = np.loadtxt('data/synthetic_data.csv', delimiter=',')\n",
    "dataset = SyntheticDataset(synthetic_data)\n",
    "dataloader = DataLoader(dataset, batch_size=batch_size, shuffle=False)"
   ]
  },
  {
   "cell_type": "code",
   "execution_count": 5,
   "metadata": {},
   "outputs": [],
   "source": [
    "class NCC_Classifier(nn.Module):\n",
    "    def __init__(self, num_classes=2, in_features=2, out_features=100):\n",
    "        super(NCC_Classifier, self).__init__()\n",
    "        \n",
    "        self.emb_layers = nn.Sequential(*[\n",
    "            nn.Linear(in_features, out_features),\n",
    "            nn.BatchNorm1d(out_features),\n",
    "            nn.ReLU(),\n",
    "            nn.Dropout(p=0.25)\n",
    "        ])\n",
    "        \n",
    "        self.emb_layer2 = nn.Sequential(*[\n",
    "            nn.Linear(out_features, out_features),\n",
    "            nn.BatchNorm1d(out_features),\n",
    "            nn.ReLU(),\n",
    "            nn.Dropout(p=0.25)\n",
    "        ])\n",
    "        \n",
    "        self.classifier1 = nn.Sequential(*[\n",
    "            nn.Linear(1, out_features),\n",
    "            nn.BatchNorm1d(out_features),\n",
    "            nn.ReLU(),\n",
    "            nn.Dropout(p=0.25)\n",
    "        ])\n",
    "\n",
    "        self.classifier2 = nn.Sequential(*[\n",
    "            nn.Linear(out_features, out_features),\n",
    "            nn.BatchNorm1d(out_features),\n",
    "            nn.ReLU(),\n",
    "            nn.Dropout(p=0.25)\n",
    "        ])\n",
    "\n",
    "        self.classifier = nn.Linear(out_features, num_classes)\n",
    "        \n",
    "    def forward(self, x):\n",
    "        x = self.emb_layer1(x)\n",
    "        x = self.emb_layer2(x)\n",
    "        x = x.mean()\n",
    "        x = self.classifier1(x)\n",
    "        x = self.classifier2(x)\n",
    "        x = self.classifier(x)\n",
    "        # softmax\n",
    "        return x"
   ]
  },
  {
   "cell_type": "code",
   "execution_count": 6,
   "metadata": {},
   "outputs": [
    {
     "data": {
      "text/plain": [
       "NCC_Classifier(\n",
       "  (emb_layer1): Sequential(\n",
       "    (0): Linear(in_features=2, out_features=100, bias=True)\n",
       "    (1): BatchNorm1d(100, eps=1e-05, momentum=0.1, affine=True, track_running_stats=True)\n",
       "    (2): ReLU()\n",
       "    (3): Dropout(p=0.25, inplace=False)\n",
       "  )\n",
       "  (emb_layer2): Sequential(\n",
       "    (0): Linear(in_features=100, out_features=100, bias=True)\n",
       "    (1): BatchNorm1d(100, eps=1e-05, momentum=0.1, affine=True, track_running_stats=True)\n",
       "    (2): ReLU()\n",
       "    (3): Dropout(p=0.25, inplace=False)\n",
       "  )\n",
       "  (classifier1): Sequential(\n",
       "    (0): Linear(in_features=100, out_features=100, bias=True)\n",
       "    (1): BatchNorm1d(100, eps=1e-05, momentum=0.1, affine=True, track_running_stats=True)\n",
       "    (2): ReLU()\n",
       "    (3): Dropout(p=0.25, inplace=False)\n",
       "  )\n",
       "  (classifier2): Sequential(\n",
       "    (0): Linear(in_features=100, out_features=100, bias=True)\n",
       "    (1): BatchNorm1d(100, eps=1e-05, momentum=0.1, affine=True, track_running_stats=True)\n",
       "    (2): ReLU()\n",
       "    (3): Dropout(p=0.25, inplace=False)\n",
       "  )\n",
       "  (classifier): Linear(in_features=100, out_features=2, bias=True)\n",
       ")"
      ]
     },
     "execution_count": 6,
     "metadata": {},
     "output_type": "execute_result"
    }
   ],
   "source": [
    "device = 'cpu'\n",
    "model = NCC_Classifier(in_features=2).to(device)\n",
    "model.train()\n"
   ]
  },
  {
   "cell_type": "code",
   "execution_count": 7,
   "metadata": {},
   "outputs": [
    {
     "name": "stderr",
     "output_type": "stream",
     "text": [
      " 50%|██████████████████████                      | 1/2 [04:11<04:11, 251.88s/it]"
     ]
    },
    {
     "name": "stdout",
     "output_type": "stream",
     "text": [
      "Epoch 1/10000 TrainLoss 0.633088 TrainAcc 1.0000\n"
     ]
    },
    {
     "name": "stderr",
     "output_type": "stream",
     "text": [
      "100%|████████████████████████████████████████████| 2/2 [08:49<00:00, 264.55s/it]"
     ]
    },
    {
     "name": "stdout",
     "output_type": "stream",
     "text": [
      "Epoch 2/10000 TrainLoss 0.000000 TrainAcc 1.0000\n"
     ]
    },
    {
     "name": "stderr",
     "output_type": "stream",
     "text": [
      "\n"
     ]
    }
   ],
   "source": [
    "criterion = nn.CrossEntropyLoss()\n",
    "optimizer = optim.RMSprop(model.parameters())\n",
    "num_epoch = num_iteration // len(dataset)\n",
    "\n",
    "for epoch in tqdm(range(2), ncols=80):\n",
    "    train_loss, correct, total = 0., 0, 0\n",
    "\n",
    "    for causal, anticausal in dataloader:\n",
    "        inputs, NCC_label = causal\n",
    "        N = NCC_label.size(0)\n",
    "        \n",
    "        optimizer.zero_grad()\n",
    "        \n",
    "        output = model(inputs.float())\n",
    "        \n",
    "        # loss = (1 - output1 + output2) / 2\n",
    "        \n",
    "        loss = criterion(output, NCC_label)\n",
    "        loss.backward()\n",
    "        optimizer.step()\n",
    "        \n",
    "        # metric\n",
    "        train_loss += torch.sum(loss.detach()).cpu().item()\n",
    "        \n",
    "        _, preds = torch.max(output.data, 1)\n",
    "        correct += preds.eq(NCC_label).sum().detach().cpu().data.numpy()\n",
    "        total += N\n",
    "        \n",
    "    print('Epoch {}/{} TrainLoss {:.6f} TrainAcc {:.4f}'.format(epoch+1, num_epoch, train_loss, correct / total))"
   ]
  },
  {
   "cell_type": "code",
   "execution_count": null,
   "metadata": {},
   "outputs": [],
   "source": [
    "model.save()"
   ]
  }
 ],
 "metadata": {
  "kernelspec": {
   "display_name": "Python 3.9.13 ('segment')",
   "language": "python",
   "name": "python3"
  },
  "language_info": {
   "codemirror_mode": {
    "name": "ipython",
    "version": 3
   },
   "file_extension": ".py",
   "mimetype": "text/x-python",
   "name": "python",
   "nbconvert_exporter": "python",
   "pygments_lexer": "ipython3",
   "version": "3.9.13"
  },
  "orig_nbformat": 4,
  "vscode": {
   "interpreter": {
    "hash": "037aa815787b8e961403192ef1347e583d17d9ee4b11ffc4eb0aa3b81a4b5c37"
   }
  }
 },
 "nbformat": 4,
 "nbformat_minor": 2
}
