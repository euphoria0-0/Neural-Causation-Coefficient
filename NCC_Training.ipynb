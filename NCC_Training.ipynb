{
 "cells": [
  {
   "attachments": {},
   "cell_type": "markdown",
   "metadata": {},
   "source": [
    "## 1. Train NCC classifier\n",
    "### 1-1. Create synthetic dataset"
   ]
  },
  {
   "cell_type": "code",
   "execution_count": 1,
   "metadata": {},
   "outputs": [],
   "source": [
    "import numpy as np\n",
    "import tqdm\n",
    "from sklearn.mixture import GaussianMixture\n",
    "from scipy.interpolate import CubicHermiteSpline, PchipInterpolator, UnivariateSpline\n",
    "\n",
    "def normalize(x):\n",
    "    return (x-x.mean())/x.std()"
   ]
  },
  {
   "cell_type": "code",
   "execution_count": 2,
   "metadata": {},
   "outputs": [],
   "source": [
    "n = 10000 # i=1,...n\n",
    "m_i = 100 # j=1,...,m_i"
   ]
  },
  {
   "cell_type": "code",
   "execution_count": 3,
   "metadata": {},
   "outputs": [
    {
     "name": "stderr",
     "output_type": "stream",
     "text": [
      "100%|██████████| 10000/10000 [00:32<00:00, 304.11it/s]\n"
     ]
    }
   ],
   "source": [
    "# for reproducible results\n",
    "np.random.seed(seed=0)\n",
    "\n",
    "synthetic_data = np.empty((0,3))\n",
    "\n",
    "## cause\n",
    "# fix parameters for creating gaussian distributions\n",
    "for i in tqdm(range(n)):\n",
    "    m_i = 100\n",
    "\n",
    "    k_i = np.random.randint(1, 5, size=1).item()\n",
    "    r_i = np.random.uniform(0, 5, size=1)\n",
    "    s_i = np.random.uniform(0, 5, size=1)\n",
    "    # create gaussian distributions before mix\n",
    "    mu = np.random.normal(0, r_i, size=k_i)\n",
    "    sigma = np.absolute(np.random.normal(0, s_i, size=k_i))\n",
    "    precision = np.reciprocal(sigma)\n",
    "    mixture_coef = np.absolute(np.random.normal(0, 1, size=k_i))\n",
    "    mixture_coef /= mixture_coef.sum()\n",
    "    # mixture of Gaussians\n",
    "    # sampling from mixture of Gaussians\n",
    "    what_dist = np.random.choice(k_i, size=m_i, p=mixture_coef, replace=True)\n",
    "    unique, counts = np.unique(what_dist, return_counts=True)\n",
    "    x_ij = np.empty((0,))\n",
    "    for idx,cnt in zip(unique, counts):\n",
    "        x_ij = np.concatenate([x_ij, np.random.normal(mu[idx], sigma[idx], size=cnt)], axis=0)\n",
    "    # GMM = GaussianMixture(\n",
    "    #     n_components=k_i,\n",
    "    #     weights_init=mixture_coef,\n",
    "    #     means_init=mu,\n",
    "    #     precisions_init=precision,\n",
    "    #     random_state=0,\n",
    "    # ).fit()\n",
    "    # x_ij = GMM.sample(n_samples=m_i)\n",
    "    \n",
    "    ## mechanism\n",
    "    # cubic Hermite spline with support [min-std,max+std]\n",
    "    d_i = np.random.randint(4, 5, size=1).item()\n",
    "    knots = np.random.normal(0, 1, size=d_i)\n",
    "    knots2 = np.random.normal(0, 1, size=d_i)\n",
    "    support = np.linspace(x_ij.min()-x_ij.std(), x_ij.max()+x_ij.std(), d_i)\n",
    "    # f_i = CubicHermiteSpline(x_ij, y, dydx, axis)\n",
    "    f_ij_spline = PchipInterpolator(sorted(knots), knots2)\n",
    "    \n",
    "    ## noise\n",
    "    v_i = np.random.uniform(0, 5, size=1)\n",
    "    e_ij = np.random.normal(0, v_i, size=m_i)\n",
    "    knots = np.random.uniform(0, 5, size=d_i)\n",
    "    v_ij_spline = UnivariateSpline(support, knots)\n",
    "    v_ij = v_ij_spline(e_ij)  # value of smoothing spline with support\n",
    "    hetero_noise = np.multiply(v_ij, e_ij)\n",
    "\n",
    "    ## mechanism again\n",
    "    f_ij = f_ij_spline(x_ij)\n",
    "    f_ij = normalize(f_ij)\n",
    "    \n",
    "    ## noise effect y_ij\n",
    "    y_ij = f_ij + hetero_noise\n",
    "    y_ij = normalize(y_ij)\n",
    "    \n",
    "    ## sampling process (2n samples)\n",
    "    index = np.ones((m_i,1), dtype=int)*i\n",
    "    syn_data = np.concatenate([index, x_ij.reshape(-1,1), y_ij.reshape(-1,1)], axis=1)\n",
    "    synthetic_data = np.concatenate([synthetic_data, syn_data])"
   ]
  },
  {
   "cell_type": "code",
   "execution_count": 12,
   "metadata": {},
   "outputs": [
    {
     "name": "stdout",
     "output_type": "stream",
     "text": [
      "(1000000, 3)\n"
     ]
    }
   ],
   "source": [
    "print(synthetic_data.shape)\n",
    "np.savetxt(\"data/synthetic_data.csv\", synthetic_data, delimiter=\",\", fmt='%i,%2.8f,%2.8f')"
   ]
  },
  {
   "attachments": {},
   "cell_type": "markdown",
   "metadata": {},
   "source": [
    "### 1-2. Train NCC Classifier\n",
    "Train NCC Classifier with synthetic dataset\n",
    "\n",
    "- NCC: two embedding layers and two classification layers followed by a softmax output layer.\n",
    "- each hidden layer is a composition of batch normalization, 100 hidden neurons, ReLU, 25% dropout.\n",
    "- train for 10000 iterations using RMSProp with default params"
   ]
  },
  {
   "cell_type": "code",
   "execution_count": 1,
   "metadata": {},
   "outputs": [
    {
     "name": "stderr",
     "output_type": "stream",
     "text": [
      "c:\\Users\\yeong\\miniconda3\\envs\\NCC\\lib\\site-packages\\tqdm\\auto.py:22: TqdmWarning: IProgress not found. Please update jupyter and ipywidgets. See https://ipywidgets.readthedocs.io/en/stable/user_install.html\n",
      "  from .autonotebook import tqdm as notebook_tqdm\n"
     ]
    }
   ],
   "source": [
    "import os\n",
    "import numpy as np\n",
    "import pandas as pd\n",
    "import tqdm\n",
    "import torch\n",
    "from torch import nn\n",
    "from torch import optim\n",
    "from torch.utils.data import DataLoader"
   ]
  },
  {
   "cell_type": "code",
   "execution_count": 2,
   "metadata": {},
   "outputs": [],
   "source": [
    "class SyntheticDataset(object):\n",
    "    def __init__(self, dataset):\n",
    "        self.dataset = dataset\n",
    "\n",
    "    def __getitem__(self, index):\n",
    "        X, Y = self.dataset[index,1], self.dataset[index,2]\n",
    "        return X, Y\n",
    "\n",
    "    def __len__(self):\n",
    "        return len(self.dataset)"
   ]
  },
  {
   "cell_type": "code",
   "execution_count": 3,
   "metadata": {},
   "outputs": [],
   "source": [
    "class NCC_Classifier(nn.Module):\n",
    "    def __init__(self, num_classes=2, in_features=2, hidden_dim=100):\n",
    "        super(NCC_Classifier, self).__init__()\n",
    "        \n",
    "        self.emb_layer1 = nn.Sequential(*[\n",
    "            nn.Linear(in_features, hidden_dim),\n",
    "            nn.BatchNorm1d(hidden_dim),\n",
    "            nn.ReLU(),\n",
    "            nn.Dropout(p=0.25)\n",
    "        ])\n",
    "        \n",
    "        self.emb_layer2 = nn.Sequential(*[\n",
    "            nn.Linear(hidden_dim, hidden_dim),\n",
    "            nn.BatchNorm1d(hidden_dim),\n",
    "            nn.ReLU(),\n",
    "            nn.Dropout(p=0.25)\n",
    "        ])\n",
    "\n",
    "        self.classifier1 = nn.Sequential(*[\n",
    "            nn.Linear(hidden_dim, hidden_dim),\n",
    "            # nn.BatchNorm1d(hidden_dim),\n",
    "            nn.ReLU(),\n",
    "            nn.Dropout(p=0.25)\n",
    "        ])\n",
    "        \n",
    "        self.classifier2 = nn.Sequential(*[\n",
    "            nn.Linear(hidden_dim, hidden_dim),\n",
    "            # nn.BatchNorm1d(hidden_dim),\n",
    "            nn.ReLU(),\n",
    "            nn.Dropout(p=0.25)\n",
    "        ])\n",
    "\n",
    "        self.classifier = nn.Linear(hidden_dim, num_classes)\n",
    "        \n",
    "    def forward(self, x):\n",
    "        x = self.emb_layer1(x)\n",
    "        x = self.emb_layer2(x)\n",
    "        # x = torch.stack([x[i:i+N].mean(axis=0) for i in range(0,N+1,N)])\n",
    "        x = x.mean(axis=0).reshape(1,-1)\n",
    "        \n",
    "        x = self.classifier1(x)\n",
    "        x = self.classifier2(x)\n",
    "        x = self.classifier(x)\n",
    "        # softmax\n",
    "        return x"
   ]
  },
  {
   "cell_type": "code",
   "execution_count": 4,
   "metadata": {},
   "outputs": [],
   "source": [
    "batch_size = 32 # m_i\n",
    "num_epoch = 100\n",
    "num_iteration = 10000\n",
    "device = 'cpu'"
   ]
  },
  {
   "cell_type": "code",
   "execution_count": 5,
   "metadata": {},
   "outputs": [
    {
     "name": "stdout",
     "output_type": "stream",
     "text": [
      "10000\n"
     ]
    }
   ],
   "source": [
    "synthetic_data = np.loadtxt('data/synthetic_data.csv', delimiter=',')\n",
    "dataloaders = []\n",
    "for i in range(10000):\n",
    "    dataset = SyntheticDataset(synthetic_data[100*i:100*(i+1)])\n",
    "    dataloader = DataLoader(dataset, batch_size=batch_size, shuffle=False, drop_last=False)\n",
    "    dataloaders.append(dataloader)\n",
    "print(len(dataloaders))"
   ]
  },
  {
   "cell_type": "code",
   "execution_count": 6,
   "metadata": {},
   "outputs": [
    {
     "data": {
      "text/plain": [
       "NCC_Classifier(\n",
       "  (emb_layer1): Sequential(\n",
       "    (0): Linear(in_features=2, out_features=100, bias=True)\n",
       "    (1): BatchNorm1d(100, eps=1e-05, momentum=0.1, affine=True, track_running_stats=True)\n",
       "    (2): ReLU()\n",
       "    (3): Dropout(p=0.25, inplace=False)\n",
       "  )\n",
       "  (emb_layer2): Sequential(\n",
       "    (0): Linear(in_features=100, out_features=100, bias=True)\n",
       "    (1): BatchNorm1d(100, eps=1e-05, momentum=0.1, affine=True, track_running_stats=True)\n",
       "    (2): ReLU()\n",
       "    (3): Dropout(p=0.25, inplace=False)\n",
       "  )\n",
       "  (classifier1): Sequential(\n",
       "    (0): Linear(in_features=100, out_features=100, bias=True)\n",
       "    (1): ReLU()\n",
       "    (2): Dropout(p=0.25, inplace=False)\n",
       "  )\n",
       "  (classifier2): Sequential(\n",
       "    (0): Linear(in_features=100, out_features=100, bias=True)\n",
       "    (1): ReLU()\n",
       "    (2): Dropout(p=0.25, inplace=False)\n",
       "  )\n",
       "  (classifier): Linear(in_features=100, out_features=2, bias=True)\n",
       ")"
      ]
     },
     "execution_count": 6,
     "metadata": {},
     "output_type": "execute_result"
    }
   ],
   "source": [
    "model = NCC_Classifier().to(device)\n",
    "model.train()\n"
   ]
  },
  {
   "cell_type": "code",
   "execution_count": 9,
   "metadata": {},
   "outputs": [
    {
     "name": "stderr",
     "output_type": "stream",
     "text": [
      "100%|██████████| 1/1 [13:11<00:00, 791.91s/it]"
     ]
    },
    {
     "name": "stdout",
     "output_type": "stream",
     "text": [
      "Epoch 1/1 TrainLoss 20908.987761 TrainAcc 0.7740\n"
     ]
    },
    {
     "name": "stderr",
     "output_type": "stream",
     "text": [
      "\n"
     ]
    }
   ],
   "source": [
    "criterion = nn.CrossEntropyLoss()\n",
    "optimizer = optim.RMSprop(model.parameters())\n",
    "\n",
    "for epoch in tqdm.tqdm(range(num_epoch)):\n",
    "    train_loss, correct, total = 0., 0, 0\n",
    "\n",
    "    for dataloader in dataloaders:\n",
    "        for X, Y in tqdm.tqdm(dataloader, leave=False):\n",
    "            N = X.size(0)\n",
    "            NCC_label = torch.tensor([0,1], dtype=torch.long, device=device)\n",
    "            outputs = torch.empty((0))\n",
    "            \n",
    "            # causal\n",
    "            optimizer.zero_grad()\n",
    "            causal = torch.cat([X.reshape(-1,1),Y.reshape(-1,1)],axis=1).float()\n",
    "            output1 = model(causal)\n",
    "            outputs = torch.cat([outputs, output1])\n",
    "\n",
    "            # anticausal \n",
    "            optimizer.zero_grad()\n",
    "            anticausal = torch.cat([Y.reshape(-1,1),X.reshape(-1,1)], axis=1).float()\n",
    "            output2 = model(anticausal)\n",
    "            outputs = torch.cat([outputs, output2])\n",
    "                \n",
    "            # loss = (1 - output1 + output2) / 2\n",
    "            loss = criterion(outputs, NCC_label)\n",
    "            loss.backward()\n",
    "            optimizer.step()\n",
    "            \n",
    "            # metric\n",
    "            train_loss += torch.sum(loss.detach()).cpu().item()\n",
    "            \n",
    "            _, preds = torch.max(outputs.data, 1)\n",
    "            correct += sum([preds[i]==i for i in range(2)]).item()\n",
    "            total += len(NCC_label)\n",
    "        \n",
    "    print('Epoch {}/{} TrainLoss {:.6f} TrainAcc {:.4f}'.format(epoch+1, num_epoch, train_loss, correct / total))"
   ]
  },
  {
   "cell_type": "code",
   "execution_count": 8,
   "metadata": {},
   "outputs": [],
   "source": [
    "torch.save(model.state_dict(), f'results/model_{num_epoch}.pt')"
   ]
  },
  {
   "attachments": {},
   "cell_type": "markdown",
   "metadata": {},
   "source": [
    "### 1-3. Testing NCC\n",
    "- Tubingen dataset v1.0"
   ]
  },
  {
   "cell_type": "code",
   "execution_count": 7,
   "metadata": {},
   "outputs": [],
   "source": [
    "import pandas as pd\n",
    "import numpy as np\n",
    "from torch.utils.data import DataLoader\n",
    "import torch\n",
    "import os"
   ]
  },
  {
   "cell_type": "code",
   "execution_count": 12,
   "metadata": {},
   "outputs": [],
   "source": [
    "class TubingenDataset(object):\n",
    "    def __init__(self, filename=None, label=None):\n",
    "        data_path = 'data/pairs_1.0/'\n",
    "        self.dataset = np.loadtxt(os.path.join(data_path, filename+'.txt'))\n",
    "\n",
    "        label_var = {'->':0,'<-':1}\n",
    "        if label is None:\n",
    "            label = pd.read_csv(os.path.join(data_path, 'Description.csv'))\n",
    "        idx = label.index[label['name']==filename.replace('.txt','')].tolist()\n",
    "        self.label = label_var[label['ground truth'][idx[0]]]\n",
    "        \n",
    "    def __getitem__(self, index):\n",
    "        X, Y = self.dataset[index][0], self.dataset[index][1]\n",
    "        return X, Y\n",
    "\n",
    "    def __len__(self):\n",
    "        return len(self.dataset)"
   ]
  },
  {
   "cell_type": "code",
   "execution_count": 47,
   "metadata": {},
   "outputs": [
    {
     "data": {
      "text/plain": [
       "NCC_Classifier(\n",
       "  (emb_layer1): Sequential(\n",
       "    (0): Linear(in_features=2, out_features=100, bias=True)\n",
       "    (1): BatchNorm1d(100, eps=1e-05, momentum=0.1, affine=True, track_running_stats=True)\n",
       "    (2): ReLU()\n",
       "    (3): Dropout(p=0.25, inplace=False)\n",
       "  )\n",
       "  (emb_layer2): Sequential(\n",
       "    (0): Linear(in_features=100, out_features=100, bias=True)\n",
       "    (1): BatchNorm1d(100, eps=1e-05, momentum=0.1, affine=True, track_running_stats=True)\n",
       "    (2): ReLU()\n",
       "    (3): Dropout(p=0.25, inplace=False)\n",
       "  )\n",
       "  (classifier1): Sequential(\n",
       "    (0): Linear(in_features=100, out_features=100, bias=True)\n",
       "    (1): ReLU()\n",
       "    (2): Dropout(p=0.25, inplace=False)\n",
       "  )\n",
       "  (classifier2): Sequential(\n",
       "    (0): Linear(in_features=100, out_features=100, bias=True)\n",
       "    (1): ReLU()\n",
       "    (2): Dropout(p=0.25, inplace=False)\n",
       "  )\n",
       "  (classifier): Linear(in_features=100, out_features=2, bias=True)\n",
       ")"
      ]
     },
     "execution_count": 47,
     "metadata": {},
     "output_type": "execute_result"
    }
   ],
   "source": [
    "# model = NCC_Classifier()\n",
    "# model.load_state_dict(torch.load('results/model_2.pt'))\n",
    "model = model.to(device)\n",
    "model.eval()"
   ]
  },
  {
   "cell_type": "code",
   "execution_count": 44,
   "metadata": {},
   "outputs": [],
   "source": [
    "batch_size = 32\n",
    "\n",
    "label_dataset = pd.read_csv(os.path.join('data/pairs_1.0/', 'Description.csv'))\n",
    "file_lst = label_dataset['name']#[:1]\n",
    "\n",
    "dataset = TubingenDataset(filename='pair0001')\n",
    "loader = DataLoader(dataset)"
   ]
  },
  {
   "cell_type": "code",
   "execution_count": 46,
   "metadata": {},
   "outputs": [
    {
     "name": "stdout",
     "output_type": "stream",
     "text": [
      "NumDataset 1/100 TestAcc 0.0000\n",
      "NumDataset 2/100 TestAcc 1.0000\n",
      "NumDataset 3/100 TestAcc 0.0000\n",
      "NumDataset 4/100 TestAcc 1.0000\n",
      "NumDataset 5/100 TestAcc 0.0000\n",
      "NumDataset 6/100 TestAcc 0.0000\n",
      "NumDataset 7/100 TestAcc 0.0000\n",
      "NumDataset 8/100 TestAcc 0.0000\n",
      "NumDataset 9/100 TestAcc 0.0000\n",
      "NumDataset 10/100 TestAcc 0.0000\n",
      "NumDataset 11/100 TestAcc 0.0000\n",
      "NumDataset 12/100 TestAcc 1.0000\n",
      "NumDataset 13/100 TestAcc 0.0000\n",
      "NumDataset 14/100 TestAcc 0.0000\n",
      "NumDataset 15/100 TestAcc 0.0000\n",
      "NumDataset 16/100 TestAcc 0.0000\n",
      "NumDataset 17/100 TestAcc 1.0000\n",
      "NumDataset 18/100 TestAcc 0.7000\n",
      "NumDataset 19/100 TestAcc 1.0000\n",
      "NumDataset 20/100 TestAcc 0.0000\n",
      "NumDataset 21/100 TestAcc 1.0000\n",
      "NumDataset 22/100 TestAcc 1.0000\n",
      "NumDataset 23/100 TestAcc 1.0000\n",
      "NumDataset 24/100 TestAcc 1.0000\n",
      "NumDataset 25/100 TestAcc 0.0000\n",
      "NumDataset 26/100 TestAcc 0.3939\n",
      "NumDataset 27/100 TestAcc 0.4545\n",
      "NumDataset 28/100 TestAcc 0.0000\n",
      "NumDataset 29/100 TestAcc 1.0000\n",
      "NumDataset 30/100 TestAcc 0.0000\n",
      "NumDataset 31/100 TestAcc 0.0000\n",
      "NumDataset 32/100 TestAcc 0.7576\n",
      "NumDataset 33/100 TestAcc 1.0000\n",
      "NumDataset 34/100 TestAcc 1.0000\n",
      "NumDataset 35/100 TestAcc 1.0000\n",
      "NumDataset 36/100 TestAcc 1.0000\n",
      "NumDataset 37/100 TestAcc 1.0000\n",
      "NumDataset 38/100 TestAcc 1.0000\n",
      "NumDataset 39/100 TestAcc 1.0000\n",
      "NumDataset 40/100 TestAcc 1.0000\n",
      "NumDataset 41/100 TestAcc 1.0000\n",
      "NumDataset 42/100 TestAcc 0.0000\n",
      "NumDataset 43/100 TestAcc 1.0000\n",
      "NumDataset 44/100 TestAcc 1.0000\n",
      "NumDataset 45/100 TestAcc 1.0000\n",
      "NumDataset 46/100 TestAcc 0.9754\n",
      "NumDataset 47/100 TestAcc 1.0000\n",
      "NumDataset 48/100 TestAcc 0.3333\n",
      "NumDataset 49/100 TestAcc 1.0000\n",
      "NumDataset 50/100 TestAcc 1.0000\n",
      "NumDataset 51/100 TestAcc 1.0000\n",
      "NumDataset 52/100 TestAcc 0.0000\n",
      "NumDataset 53/100 TestAcc 0.1935\n",
      "NumDataset 54/100 TestAcc 1.0000\n",
      "NumDataset 55/100 TestAcc 0.0000\n",
      "NumDataset 56/100 TestAcc 1.0000\n",
      "NumDataset 57/100 TestAcc 1.0000\n",
      "NumDataset 58/100 TestAcc 1.0000\n",
      "NumDataset 59/100 TestAcc 1.0000\n",
      "NumDataset 60/100 TestAcc 1.0000\n",
      "NumDataset 61/100 TestAcc 1.0000\n",
      "NumDataset 62/100 TestAcc 1.0000\n",
      "NumDataset 63/100 TestAcc 1.0000\n",
      "NumDataset 64/100 TestAcc 0.3333\n",
      "NumDataset 65/100 TestAcc 1.0000\n",
      "NumDataset 66/100 TestAcc 1.0000\n",
      "NumDataset 67/100 TestAcc 1.0000\n",
      "NumDataset 68/100 TestAcc 1.0000\n",
      "NumDataset 69/100 TestAcc 0.7402\n",
      "NumDataset 70/100 TestAcc 0.0000\n",
      "NumDataset 71/100 TestAcc 0.0000\n",
      "NumDataset 72/100 TestAcc 0.0000\n",
      "NumDataset 73/100 TestAcc 0.0000\n",
      "NumDataset 74/100 TestAcc 0.0000\n",
      "NumDataset 75/100 TestAcc 0.0000\n",
      "NumDataset 76/100 TestAcc 0.5455\n",
      "NumDataset 77/100 TestAcc 0.0000\n",
      "NumDataset 78/100 TestAcc 0.0000\n",
      "NumDataset 79/100 TestAcc 0.0000\n",
      "NumDataset 80/100 TestAcc 0.0000\n",
      "NumDataset 81/100 TestAcc 0.0000\n",
      "NumDataset 82/100 TestAcc 0.0833\n",
      "NumDataset 83/100 TestAcc 0.0000\n",
      "NumDataset 84/100 TestAcc 0.0000\n",
      "NumDataset 85/100 TestAcc 0.1875\n",
      "NumDataset 86/100 TestAcc 1.0000\n",
      "NumDataset 87/100 TestAcc 0.7078\n",
      "NumDataset 88/100 TestAcc 0.0000\n",
      "NumDataset 89/100 TestAcc 1.0000\n",
      "NumDataset 90/100 TestAcc 1.0000\n",
      "NumDataset 91/100 TestAcc 0.0000\n",
      "NumDataset 92/100 TestAcc 0.0000\n",
      "NumDataset 93/100 TestAcc 0.7857\n",
      "NumDataset 94/100 TestAcc 0.6633\n",
      "NumDataset 95/100 TestAcc 1.0000\n",
      "NumDataset 96/100 TestAcc 1.0000\n",
      "NumDataset 97/100 TestAcc 1.0000\n",
      "NumDataset 98/100 TestAcc 1.0000\n",
      "NumDataset 99/100 TestAcc 0.4861\n",
      "NumDataset 100/100 TestAcc 0.0000\n",
      "Total TestAcc 0.5434\n"
     ]
    }
   ],
   "source": [
    "model.eval()\n",
    "\n",
    "TotalTestAcc = 0.\n",
    "\n",
    "for fileidx, filename in enumerate(file_lst):\n",
    "    correct, total = 0, 0\n",
    "    dataset = TubingenDataset(filename=filename, label=label_dataset)\n",
    "    dataloader = DataLoader(dataset, batch_size=batch_size)\n",
    "\n",
    "    with torch.no_grad():\n",
    "        for X, Y, label in dataloader:\n",
    "            # print(X.shape, Y.shape, label.shape, end=' ')\n",
    "            causal = torch.cat([X.reshape(-1,1),Y.reshape(-1,1)],axis=1).float()\n",
    "            # anticausal = torch.cat([Y.reshape(-1,1),X.reshape(-1,1)], axis=1)\n",
    "            # inputs = torch.cat([causal, anticausal], axis=0).to(device)\n",
    "            N = X.size(0)\n",
    "            \n",
    "            # output = model(inputs.float(), N//2)\n",
    "            output = model(causal)\n",
    "            \n",
    "            # metric\n",
    "            _, preds = torch.max(output.data, 1)\n",
    "            # print(preds.item(), label[0].item())\n",
    "            # print(preds.item(), label[0].item(), preds.item() == label[0].item())\n",
    "            correct += preds.item() == label[0].item() # sum([preds[i]==i for i in range(2)]).item()\n",
    "            total += 1\n",
    "        \n",
    "    acc = correct / total\n",
    "    TotalTestAcc += acc\n",
    "    print('NumDataset {}/{} TestAcc {:.4f}'.format(fileidx+1, len(file_lst), acc))\n",
    "print('Total TestAcc {:.4f}'.format(TotalTestAcc/len(file_lst)))"
   ]
  }
 ],
 "metadata": {
  "kernelspec": {
   "display_name": "NCC",
   "language": "python",
   "name": "python3"
  },
  "language_info": {
   "codemirror_mode": {
    "name": "ipython",
    "version": 3
   },
   "file_extension": ".py",
   "mimetype": "text/x-python",
   "name": "python",
   "nbconvert_exporter": "python",
   "pygments_lexer": "ipython3",
   "version": "3.9.15"
  },
  "orig_nbformat": 4,
  "vscode": {
   "interpreter": {
    "hash": "cc9e19afdc3562c52a664506493059163f6b7477d97f7d156524e25e38fdf4c6"
   }
  }
 },
 "nbformat": 4,
 "nbformat_minor": 2
}
